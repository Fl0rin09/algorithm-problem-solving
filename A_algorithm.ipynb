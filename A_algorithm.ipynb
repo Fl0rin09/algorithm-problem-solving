{
  "nbformat": 4,
  "nbformat_minor": 0,
  "metadata": {
    "colab": {
      "provenance": [],
      "authorship_tag": "ABX9TyO2om8J4rsDhLvnGrc594ij",
      "include_colab_link": true
    },
    "kernelspec": {
      "name": "python3",
      "display_name": "Python 3"
    },
    "language_info": {
      "name": "python"
    }
  },
  "cells": [
    {
      "cell_type": "markdown",
      "metadata": {
        "id": "view-in-github",
        "colab_type": "text"
      },
      "source": [
        "<a href=\"https://colab.research.google.com/github/Fl0rin09/algorithm-problem-solving/blob/main/A_algorithm.ipynb\" target=\"_parent\"><img src=\"https://colab.research.google.com/assets/colab-badge.svg\" alt=\"Open In Colab\"/></a>"
      ]
    },
    {
      "cell_type": "code",
      "execution_count": null,
      "metadata": {
        "colab": {
          "base_uri": "https://localhost:8080/"
        },
        "id": "n2lzmM_cUpmM",
        "outputId": "22fcca80-c721-4e8c-8677-241f3af187d5"
      },
      "outputs": [
        {
          "output_type": "stream",
          "name": "stdout",
          "text": [
            "please enter your start cityArad\n",
            " please enter your destination Bucharest\n",
            "no path found\n"
          ]
        }
      ],
      "source": [
        "input_file=open('inputA.txt','r')\n",
        "output_file=open('outputA.txt','w')\n",
        "path=input_file.readlines()\n",
        "path_found=False\n",
        "heuristic={}\n",
        "city_graph={}\n",
        "\n",
        "for i in path:\n",
        "  input_val=  i.split()\n",
        "  cities,heuristics_value= input_val[0],int(input_val[1])\n",
        "  neighbor_city=[]\n",
        "  heuristic[cities]=heuristics_value\n",
        "\n",
        "  for j in range(2,len(input_val),2):\n",
        "    neighbor_c= input_val[j]\n",
        "    distance_val = int(input_val[j+1])\n",
        "    neighbor_city.append((neighbor_c,distance_val))\n",
        "city_graph[cities] =neighbor_city\n",
        "\n",
        "import heapq\n",
        "def A_search_algo(city_graph,heuristic,start_point,goal_point):\n",
        "  priority_queue=[]\n",
        "  goal_cost={start_point:0}\n",
        "  heapq.heappush(priority_queue,(heuristic[start_point],0,start_point,[start_point]))\n",
        "  while priority_queue:\n",
        "    total_cost, present_cost,present_node, running_path = heapq.heappop(priority_queue)\n",
        "    if present_node==goal_point:\n",
        "      return present_cost,running_path\n",
        "    if present_node not in city_graph:\n",
        "       continue\n",
        "    for i, j in city_graph[present_node]:\n",
        "      new_cost = present_cost + j\n",
        "      if i not in goal_cost or new_cost < goal_cost[i]:\n",
        "          goal_cost[i]=new_cost\n",
        "          rough_cost=new_cost + heuristic.get(i, float('inf'))\n",
        "          heapq.heappush(priority_queue, (rough_cost, new_cost, i, running_path + [i]))\n",
        "  return None,[]\n",
        "\n",
        "\n",
        "\n",
        "\n",
        "\n",
        "\n",
        "\n",
        "\n",
        "start_point= input(\"please enter your start city\")\n",
        "goal_point= input(\" please enter your destination \")\n",
        "distace_from_start,des_path= A_search_algo(city_graph,heuristic,start_point,goal_point)\n",
        "if des_path:\n",
        "  print(f\"path:{'->'.join(path)} /n total distance:{distace_from_start}\")\n",
        "else:\n",
        "  print(\"no path found\")"
      ]
    }
  ]
}